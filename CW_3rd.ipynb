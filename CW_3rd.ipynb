{
 "cells": [
  {
   "cell_type": "markdown",
   "metadata": {},
   "source": [
    "#  Pandas 에서 csv 를 읽어들여 DataFrame으로 만들기"
   ]
  },
  {
   "cell_type": "code",
   "execution_count": 5,
   "metadata": {
    "collapsed": true
   },
   "outputs": [],
   "source": [
    "# coding: utf-8\n",
    "\n",
    "import pandas as pd"
   ]
  },
  {
   "cell_type": "code",
   "execution_count": 6,
   "metadata": {
    "collapsed": false,
    "scrolled": true
   },
   "outputs": [
    {
     "data": {
      "text/html": [
       "<div>\n",
       "<table border=\"1\" class=\"dataframe\">\n",
       "  <thead>\n",
       "    <tr style=\"text-align: right;\">\n",
       "      <th></th>\n",
       "      <th>id</th>\n",
       "      <th>lang</th>\n",
       "      <th>genre</th>\n",
       "      <th>title</th>\n",
       "      <th>actor</th>\n",
       "      <th>director</th>\n",
       "    </tr>\n",
       "  </thead>\n",
       "  <tbody>\n",
       "    <tr>\n",
       "      <th>0</th>\n",
       "      <td>32544</td>\n",
       "      <td>ko</td>\n",
       "      <td>범죄,서부극(웨스턴)</td>\n",
       "      <td>옥스보우 인서던트</td>\n",
       "      <td>헨리 폰다,다나 앤드류스,메리 배스 휴즈,앤소니 퀸</td>\n",
       "      <td>윌리엄 A. 웰만</td>\n",
       "    </tr>\n",
       "    <tr>\n",
       "      <th>1</th>\n",
       "      <td>48171</td>\n",
       "      <td>ko</td>\n",
       "      <td>판타지,드라마</td>\n",
       "      <td>불을 찾아서</td>\n",
       "      <td>에버렛 맥길,론 펄먼,래 돈 총</td>\n",
       "      <td>장 자끄 아노</td>\n",
       "    </tr>\n",
       "    <tr>\n",
       "      <th>2</th>\n",
       "      <td>34171</td>\n",
       "      <td>ko</td>\n",
       "      <td>드라마,멜로/로맨스</td>\n",
       "      <td>비개인 오후를 좋아하세요</td>\n",
       "      <td>최수종,이미연,홍학표,김은숙</td>\n",
       "      <td>김우봉</td>\n",
       "    </tr>\n",
       "  </tbody>\n",
       "</table>\n",
       "</div>"
      ],
      "text/plain": [
       "      id lang        genre          title                         actor  \\\n",
       "0  32544   ko  범죄,서부극(웨스턴)      옥스보우 인서던트  헨리 폰다,다나 앤드류스,메리 배스 휴즈,앤소니 퀸   \n",
       "1  48171   ko      판타지,드라마         불을 찾아서             에버렛 맥길,론 펄먼,래 돈 총   \n",
       "2  34171   ko   드라마,멜로/로맨스  비개인 오후를 좋아하세요               최수종,이미연,홍학표,김은숙   \n",
       "\n",
       "    director  \n",
       "0  윌리엄 A. 웰만  \n",
       "1   장 자끄 아노   \n",
       "2        김우봉  "
      ]
     },
     "execution_count": 6,
     "metadata": {},
     "output_type": "execute_result"
    }
   ],
   "source": [
    "df = pd.read_csv('kobis.csv'); df[:3]"
   ]
  },
  {
   "cell_type": "markdown",
   "metadata": {},
   "source": [
    "# DataFrame 객체의 행과 열에 접근하기"
   ]
  },
  {
   "cell_type": "code",
   "execution_count": 7,
   "metadata": {
    "collapsed": false
   },
   "outputs": [
    {
     "name": "stdout",
     "output_type": "stream",
     "text": [
      "0        옥스보우 인서던트\n",
      "1           불을 찾아서\n",
      "2    비개인 오후를 좋아하세요\n",
      "Name: title, dtype: object\n",
      "\n",
      "id                                 32544\n",
      "lang                                  ko\n",
      "genre                        범죄,서부극(웨스턴)\n",
      "title                          옥스보우 인서던트\n",
      "actor       헨리 폰다,다나 앤드류스,메리 배스 휴즈,앤소니 퀸\n",
      "director                       윌리엄 A. 웰만\n",
      "Name: 0, dtype: object\n"
     ]
    }
   ],
   "source": [
    "print df['title'][:3]\n",
    "print\n",
    "print df.ix[0]"
   ]
  },
  {
   "cell_type": "markdown",
   "metadata": {},
   "source": [
    "# reindex 를 이용하여 데이터 인덱스 와 열 변경하기"
   ]
  },
  {
   "cell_type": "code",
   "execution_count": 8,
   "metadata": {
    "collapsed": false
   },
   "outputs": [
    {
     "data": {
      "text/html": [
       "<div>\n",
       "<table border=\"1\" class=\"dataframe\">\n",
       "  <thead>\n",
       "    <tr style=\"text-align: right;\">\n",
       "      <th></th>\n",
       "      <th>genre</th>\n",
       "      <th>title</th>\n",
       "      <th>actor</th>\n",
       "      <th>director</th>\n",
       "    </tr>\n",
       "    <tr>\n",
       "      <th>id</th>\n",
       "      <th></th>\n",
       "      <th></th>\n",
       "      <th></th>\n",
       "      <th></th>\n",
       "    </tr>\n",
       "  </thead>\n",
       "  <tbody>\n",
       "    <tr>\n",
       "      <th>32544</th>\n",
       "      <td>드라마</td>\n",
       "      <td>길의노래</td>\n",
       "      <td>NaN</td>\n",
       "      <td>사티야지트 레이</td>\n",
       "    </tr>\n",
       "    <tr>\n",
       "      <th>48171</th>\n",
       "      <td>액션,코미디,범죄</td>\n",
       "      <td>브루스 브라더스 2000</td>\n",
       "      <td>댄 애크로이드,존 굿맨</td>\n",
       "      <td>존 랜디스</td>\n",
       "    </tr>\n",
       "    <tr>\n",
       "      <th>34171</th>\n",
       "      <td>NaN</td>\n",
       "      <td>극진</td>\n",
       "      <td>NaN</td>\n",
       "      <td>정연두</td>\n",
       "    </tr>\n",
       "  </tbody>\n",
       "</table>\n",
       "</div>"
      ],
      "text/plain": [
       "           genre          title         actor  director\n",
       "id                                                     \n",
       "32544        드라마           길의노래           NaN  사티야지트 레이\n",
       "48171  액션,코미디,범죄  브루스 브라더스 2000  댄 애크로이드,존 굿맨     존 랜디스\n",
       "34171        NaN             극진           NaN       정연두"
      ]
     },
     "execution_count": 8,
     "metadata": {},
     "output_type": "execute_result"
    }
   ],
   "source": [
    "df2 = df.reindex(index=df.id, columns=['genre', 'title', 'actor', 'director']); df2[:3]"
   ]
  },
  {
   "cell_type": "markdown",
   "metadata": {},
   "source": [
    "# dropna 로 값이 없는 열을 포함한 행들을 제거"
   ]
  },
  {
   "cell_type": "code",
   "execution_count": 9,
   "metadata": {
    "collapsed": false
   },
   "outputs": [
    {
     "data": {
      "text/html": [
       "<div>\n",
       "<table border=\"1\" class=\"dataframe\">\n",
       "  <thead>\n",
       "    <tr style=\"text-align: right;\">\n",
       "      <th></th>\n",
       "      <th>genre</th>\n",
       "      <th>title</th>\n",
       "      <th>actor</th>\n",
       "      <th>director</th>\n",
       "    </tr>\n",
       "    <tr>\n",
       "      <th>id</th>\n",
       "      <th></th>\n",
       "      <th></th>\n",
       "      <th></th>\n",
       "      <th></th>\n",
       "    </tr>\n",
       "  </thead>\n",
       "  <tbody>\n",
       "    <tr>\n",
       "      <th>48171</th>\n",
       "      <td>액션,코미디,범죄</td>\n",
       "      <td>브루스 브라더스 2000</td>\n",
       "      <td>댄 애크로이드,존 굿맨</td>\n",
       "      <td>존 랜디스</td>\n",
       "    </tr>\n",
       "    <tr>\n",
       "      <th>1941</th>\n",
       "      <td>성인물(에로)</td>\n",
       "      <td>만원전철 속 그녀2</td>\n",
       "      <td>니시노 쇼</td>\n",
       "      <td>칸바라 이구토</td>\n",
       "    </tr>\n",
       "    <tr>\n",
       "      <th>42169</th>\n",
       "      <td>드라마</td>\n",
       "      <td>미.유.뎀</td>\n",
       "      <td>리마 두아르트,스테니오 가르시아,레지나 케이스</td>\n",
       "      <td>앤드류차 웨딩턴</td>\n",
       "    </tr>\n",
       "  </tbody>\n",
       "</table>\n",
       "</div>"
      ],
      "text/plain": [
       "           genre          title                      actor  director\n",
       "id                                                                  \n",
       "48171  액션,코미디,범죄  브루스 브라더스 2000               댄 애크로이드,존 굿맨     존 랜디스\n",
       "1941     성인물(에로)     만원전철 속 그녀2                      니시노 쇼   칸바라 이구토\n",
       "42169        드라마          미.유.뎀  리마 두아르트,스테니오 가르시아,레지나 케이스  앤드류차 웨딩턴"
      ]
     },
     "execution_count": 9,
     "metadata": {},
     "output_type": "execute_result"
    }
   ],
   "source": [
    "df2.dropna(how='any')[:3]"
   ]
  },
  {
   "cell_type": "markdown",
   "metadata": {},
   "source": [
    "# ‘박찬욱’ 감독의 영화제목만 가져오기"
   ]
  },
  {
   "cell_type": "code",
   "execution_count": 10,
   "metadata": {
    "collapsed": false
   },
   "outputs": [
    {
     "name": "stdout",
     "output_type": "stream",
     "text": [
      "<pandas.core.groupby.DataFrameGroupBy object at 0x113f42e50>\n",
      "id\n",
      "42351             파란만장\n",
      "38863             올드보이\n",
      "34486               심판\n",
      "47448    A Rose Reborn\n",
      "34494      쓰리, 몬스터 '컷'\n",
      "276             미쓰 홍당무\n",
      "Name: title, dtype: object\n"
     ]
    }
   ],
   "source": [
    "gb = df2.groupby('director')\n",
    "print gb\n",
    "print gb.get_group('박찬욱').title"
   ]
  },
  {
   "cell_type": "code",
   "execution_count": 11,
   "metadata": {
    "collapsed": false
   },
   "outputs": [
    {
     "name": "stdout",
     "output_type": "stream",
     "text": [
      "id\n",
      "32544    False\n",
      "48171    False\n",
      "34171    False\n",
      "Name: director, dtype: bool\n",
      "\n",
      "id\n",
      "42351             파란만장\n",
      "38863             올드보이\n",
      "34486               심판\n",
      "47448    A Rose Reborn\n",
      "34494      쓰리, 몬스터 '컷'\n",
      "276             미쓰 홍당무\n",
      "Name: title, dtype: object\n"
     ]
    }
   ],
   "source": [
    "print (df2.director == '박찬욱')[:3]\n",
    "print\n",
    "print df2[df2.director == '박찬욱'].title"
   ]
  },
  {
   "cell_type": "code",
   "execution_count": 12,
   "metadata": {
    "collapsed": false
   },
   "outputs": [
    {
     "data": {
      "text/html": [
       "<div>\n",
       "<table border=\"1\" class=\"dataframe\">\n",
       "  <thead>\n",
       "    <tr style=\"text-align: right;\">\n",
       "      <th></th>\n",
       "      <th>genre</th>\n",
       "      <th>title</th>\n",
       "      <th>actor</th>\n",
       "      <th>director</th>\n",
       "    </tr>\n",
       "    <tr>\n",
       "      <th>id</th>\n",
       "      <th></th>\n",
       "      <th></th>\n",
       "      <th></th>\n",
       "      <th></th>\n",
       "    </tr>\n",
       "  </thead>\n",
       "  <tbody>\n",
       "    <tr>\n",
       "      <th>32544</th>\n",
       "      <td>드라마</td>\n",
       "      <td>길의노래</td>\n",
       "      <td>NaN</td>\n",
       "      <td>사티야지트 레이</td>\n",
       "    </tr>\n",
       "    <tr>\n",
       "      <th>48171</th>\n",
       "      <td>액션,코미디,범죄</td>\n",
       "      <td>브루스 브라더스 2000</td>\n",
       "      <td>댄 애크로이드,존 굿맨</td>\n",
       "      <td>존 랜디스</td>\n",
       "    </tr>\n",
       "    <tr>\n",
       "      <th>34171</th>\n",
       "      <td>NaN</td>\n",
       "      <td>극진</td>\n",
       "      <td>NaN</td>\n",
       "      <td>정연두</td>\n",
       "    </tr>\n",
       "    <tr>\n",
       "      <th>49699</th>\n",
       "      <td>NaN</td>\n",
       "      <td>NaN</td>\n",
       "      <td>NaN</td>\n",
       "      <td>NaN</td>\n",
       "    </tr>\n",
       "    <tr>\n",
       "      <th>33786</th>\n",
       "      <td>애니메이션</td>\n",
       "      <td>프리스키즈 어드벤처랜드</td>\n",
       "      <td>NaN</td>\n",
       "      <td>야네스 헨드릭즈</td>\n",
       "    </tr>\n",
       "  </tbody>\n",
       "</table>\n",
       "</div>"
      ],
      "text/plain": [
       "           genre          title         actor  director\n",
       "id                                                     \n",
       "32544        드라마           길의노래           NaN  사티야지트 레이\n",
       "48171  액션,코미디,범죄  브루스 브라더스 2000  댄 애크로이드,존 굿맨     존 랜디스\n",
       "34171        NaN             극진           NaN       정연두\n",
       "49699        NaN            NaN           NaN       NaN\n",
       "33786      애니메이션   프리스키즈 어드벤처랜드           NaN  야네스 헨드릭즈"
      ]
     },
     "execution_count": 12,
     "metadata": {},
     "output_type": "execute_result"
    }
   ],
   "source": [
    "df2[:5]"
   ]
  },
  {
   "cell_type": "markdown",
   "metadata": {},
   "source": [
    "# Word2Vec 에 학습시키기 위해 데이터 형태 변환"
   ]
  },
  {
   "cell_type": "code",
   "execution_count": 13,
   "metadata": {
    "collapsed": false
   },
   "outputs": [
    {
     "data": {
      "text/html": [
       "<div>\n",
       "<table border=\"1\" class=\"dataframe\">\n",
       "  <thead>\n",
       "    <tr style=\"text-align: right;\">\n",
       "      <th></th>\n",
       "      <th>genre</th>\n",
       "      <th>title</th>\n",
       "      <th>director</th>\n",
       "      <th>actor</th>\n",
       "    </tr>\n",
       "  </thead>\n",
       "  <tbody>\n",
       "    <tr>\n",
       "      <th>1963</th>\n",
       "      <td>멜로/로맨스,드라마</td>\n",
       "      <td>거짓말 섹스가 좋아2</td>\n",
       "      <td>3G 같은 인생</td>\n",
       "      <td>강수지,윤상두</td>\n",
       "    </tr>\n",
       "    <tr>\n",
       "      <th>41491</th>\n",
       "      <td>범죄,드라마</td>\n",
       "      <td>왓 앨리스 파운드</td>\n",
       "      <td>A. 딘 벨</td>\n",
       "      <td>주디스 아이비,빌 레이몬드</td>\n",
       "    </tr>\n",
       "    <tr>\n",
       "      <th>30377</th>\n",
       "      <td>드라마,판타지,미스터리</td>\n",
       "      <td>디아더 사이드 오브 더 트랙스</td>\n",
       "      <td>A.D. 칼보</td>\n",
       "      <td>채드 린드버그,브렌단 페르</td>\n",
       "    </tr>\n",
       "    <tr>\n",
       "      <th>30286</th>\n",
       "      <td>스릴러,SF</td>\n",
       "      <td>아마겟돈: 카운트다운</td>\n",
       "      <td>A.F. 실버</td>\n",
       "      <td>킴 리틀,마크 헹스트</td>\n",
       "    </tr>\n",
       "    <tr>\n",
       "      <th>1068</th>\n",
       "      <td>액션,드라마,미스터리,멜로/로맨스,스릴러</td>\n",
       "      <td>가지니</td>\n",
       "      <td>A.R. 무루가도스</td>\n",
       "      <td>아미르 칸,아신</td>\n",
       "    </tr>\n",
       "  </tbody>\n",
       "</table>\n",
       "</div>"
      ],
      "text/plain": [
       "                        genre             title    director           actor\n",
       "1963               멜로/로맨스,드라마       거짓말 섹스가 좋아2    3G 같은 인생         강수지,윤상두\n",
       "41491                  범죄,드라마         왓 앨리스 파운드      A. 딘 벨  주디스 아이비,빌 레이몬드\n",
       "30377            드라마,판타지,미스터리  디아더 사이드 오브 더 트랙스     A.D. 칼보  채드 린드버그,브렌단 페르\n",
       "30286                  스릴러,SF       아마겟돈: 카운트다운     A.F. 실버     킴 리틀,마크 헹스트\n",
       "1068   액션,드라마,미스터리,멜로/로맨스,스릴러               가지니  A.R. 무루가도스        아미르 칸,아신"
      ]
     },
     "execution_count": 13,
     "metadata": {},
     "output_type": "execute_result"
    }
   ],
   "source": [
    "df3 = df.reindex(columns=['genre', 'title', 'director', 'actor']).dropna(how='any').sort('director'); df3[:5]"
   ]
  },
  {
   "cell_type": "code",
   "execution_count": 14,
   "metadata": {
    "collapsed": false
   },
   "outputs": [
    {
     "name": "stdout",
     "output_type": "stream",
     "text": [
      "거짓말 섹스가 좋아2 3G같은인생 강수지 윤상두\n",
      "왓 앨리스 파운드 A.딘벨 주디스 아이비 빌 레이몬드\n",
      "디아더 사이드 오브 더 트랙스 A.D.칼보 채드 린드버그 브렌단 페르\n",
      "아마겟돈: 카운트다운 A.F.실버 킴 리틀 마크 헹스트\n",
      "가지니 A.R.무루가도스 아미르 칸 아신\n"
     ]
    }
   ],
   "source": [
    "for i in df3[:5].index:\n",
    "    data = df3.ix[i]\n",
    "    print data.title, ' '.join(data.director.replace(' ', '').split(',')), ' '.join(data.actor.split(','))"
   ]
  },
  {
   "cell_type": "markdown",
   "metadata": {
    "collapsed": false
   },
   "source": [
    "# gensim 을 통해 Word2vec 를 임포팅 하고 문장을 학습시키기"
   ]
  },
  {
   "cell_type": "code",
   "execution_count": 15,
   "metadata": {
    "collapsed": true
   },
   "outputs": [],
   "source": [
    "from gensim.models import word2vec\n",
    "import logging\n",
    "logging.basicConfig(format='%(asctime)s : %(levelname)s : %(message)s', level=logging.INFO)"
   ]
  },
  {
   "cell_type": "code",
   "execution_count": 16,
   "metadata": {
    "collapsed": false
   },
   "outputs": [],
   "source": [
    "with open('sentences.txt', 'w') as fp:\n",
    "    for value in df3.values:\n",
    "        genre = value[0].replace(',', ' ')\n",
    "        title = value[1].replace(' ', '')\n",
    "        director = value[2].replace(' ', '')\n",
    "        for actor in value[3].split(','):\n",
    "            fp.write('%s %s %s %s\\n' % (genre, title, director, actor.replace(' ', '')))"
   ]
  },
  {
   "cell_type": "code",
   "execution_count": 17,
   "metadata": {
    "collapsed": true
   },
   "outputs": [],
   "source": [
    "sentences = word2vec.Text8Corpus('sentences.txt')"
   ]
  },
  {
   "cell_type": "code",
   "execution_count": 18,
   "metadata": {
    "collapsed": false
   },
   "outputs": [],
   "source": [
    "model = word2vec.Word2Vec(sentences, size=100, window=5, min_count=5, workers=4)"
   ]
  },
  {
   "cell_type": "markdown",
   "metadata": {},
   "source": [
    "# Word2vec 학습된 모델에 질의 보내기"
   ]
  },
  {
   "cell_type": "code",
   "execution_count": 19,
   "metadata": {
    "collapsed": false
   },
   "outputs": [],
   "source": [
    "result = model.most_similar(positive=[u'올드보이', u'박찬욱'], negative=[u'스릴러'], topn=1)"
   ]
  },
  {
   "cell_type": "code",
   "execution_count": 20,
   "metadata": {
    "collapsed": false
   },
   "outputs": [
    {
     "name": "stdout",
     "output_type": "stream",
     "text": [
      "미쓰홍당무\n"
     ]
    }
   ],
   "source": [
    "for el in result:\n",
    "    print el[0]"
   ]
  },
  {
   "cell_type": "code",
   "execution_count": 31,
   "metadata": {
    "collapsed": false
   },
   "outputs": [],
   "source": [
    "result = model.most_similar(positive=[u'다크나이트라이즈', u'크리스토퍼놀란'], negative=[u'히스레저'], topn=1)"
   ]
  },
  {
   "cell_type": "code",
   "execution_count": 32,
   "metadata": {
    "collapsed": false
   },
   "outputs": [
    {
     "name": "stdout",
     "output_type": "stream",
     "text": [
      "다크나이트\n"
     ]
    }
   ],
   "source": [
    "for el in result:\n",
    "    print el[0]"
   ]
  }
 ],
 "metadata": {
  "kernelspec": {
   "display_name": "Python 2",
   "language": "python",
   "name": "python2"
  },
  "language_info": {
   "codemirror_mode": {
    "name": "ipython",
    "version": 2
   },
   "file_extension": ".py",
   "mimetype": "text/x-python",
   "name": "python",
   "nbconvert_exporter": "python",
   "pygments_lexer": "ipython2",
   "version": "2.7.6"
  }
 },
 "nbformat": 4,
 "nbformat_minor": 0
}
